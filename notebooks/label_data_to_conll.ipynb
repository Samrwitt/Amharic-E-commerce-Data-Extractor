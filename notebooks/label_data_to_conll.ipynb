{
 "cells": [
  {
   "cell_type": "code",
   "execution_count": 1,
   "id": "3d0e2cf4",
   "metadata": {},
   "outputs": [],
   "source": [
    "import pandas as pd"
   ]
  },
  {
   "cell_type": "code",
   "execution_count": 2,
   "id": "db091cd0",
   "metadata": {},
   "outputs": [
    {
     "name": "stdout",
     "output_type": "stream",
     "text": [
      "Starting manual labeling for 30 messages.\n",
      "Label using: B-Product, I-Product, B-PRICE, I-PRICE, B-LOC, I-LOC, O\n"
     ]
    }
   ],
   "source": [
    "df = pd.read_csv(\"preprocessed_data.csv\")\n",
    "\n",
    "output_file = open(\"labeled_data.conll\", \"w\", encoding=\"utf-8\")\n",
    "\n",
    "print(\"Starting manual labeling for 30 messages.\")\n",
    "print(\"Label using: B-Product, I-Product, B-PRICE, I-PRICE, B-LOC, I-LOC, O\")\n"
   ]
  },
  {
   "cell_type": "code",
   "execution_count": null,
   "id": "ccbeb574",
   "metadata": {},
   "outputs": [
    {
     "name": "stdout",
     "output_type": "stream",
     "text": [
      "\n",
      "Original Message [1]: 💥💥...................................💥💥\n",
      "\n",
      "📌Saachi Electric Kettle\n",
      "\n",
      "👍Borosilicate Glass Body\n",
      "👍Overheat protection\n",
      "👍Automatic switch off\n",
      "👍2200w\n",
      "\n",
      "ዋጋ፦  💲🏷 2700  ብር ✅\n",
      "\n",
      "♦️ውስን ፍሬ ነው ያለው🔥🔥🔥\n",
      "\n",
      "🏢 አድራሻ👉\n",
      "\n",
      "📍♦️#መገናኛ_መሰረት_ደፋር_ሞል_ሁለተኛ_ፎቅ ቢሮ ቁ. S05/S06\n",
      "\n",
      "\n",
      "     💧💧💧💧\n",
      "\n",
      "\n",
      "    📲 0902660722\n",
      "    📲 0928460606 \n",
      "\n",
      "🔖\n",
      "💬በTelegram ለማዘዝ ⤵️ ይጠቀሙ🔽\n",
      "\n",
      "@zemencallcenter \n",
      "\n",
      "@zemenexpressadmin\n",
      "\n",
      "ለተጨማሪ ማብራሪያ የቴሌግራም ገፃችን⤵️\n",
      "https://telegram.me/zemenexpress\n",
      "\n",
      "💥💥...................................💥💥\n"
     ]
    }
   ],
   "source": [
    "for idx, row in df.head(30).iterrows():\n",
    "    print(f\"\\nOriginal Message [{idx + 1}]: {row['original']}\")\n",
    "    tokens = eval(row['tokens']) if isinstance(row['tokens'], str) else row['tokens']\n",
    "\n",
    "    for token in tokens:\n",
    "        label = input(f\"{token}: \").strip()\n",
    "        output_file.write(f\"{token} {label}\\n\")\n",
    "\n",
    "    output_file.write(\"\\n\")\n",
    "\n",
    "output_file.close()\n",
    "print(\"✅ Saved to labeled_data.conll\")\n"
   ]
  }
 ],
 "metadata": {
  "kernelspec": {
   "display_name": ".venv",
   "language": "python",
   "name": "python3"
  },
  "language_info": {
   "codemirror_mode": {
    "name": "ipython",
    "version": 3
   },
   "file_extension": ".py",
   "mimetype": "text/x-python",
   "name": "python",
   "nbconvert_exporter": "python",
   "pygments_lexer": "ipython3",
   "version": "3.12.3"
  }
 },
 "nbformat": 4,
 "nbformat_minor": 5
}
