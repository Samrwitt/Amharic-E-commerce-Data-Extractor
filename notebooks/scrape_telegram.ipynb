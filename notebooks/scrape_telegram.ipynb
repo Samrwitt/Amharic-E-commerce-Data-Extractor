{
 "cells": [
  {
   "cell_type": "code",
   "execution_count": 1,
   "id": "5d4338ac",
   "metadata": {},
   "outputs": [],
   "source": [
    "from telethon.sync import TelegramClient\n",
    "import json\n",
    "from dotenv import load_dotenv\n",
    "import os\n",
    "import asyncio\n"
   ]
  },
  {
   "cell_type": "code",
   "execution_count": 2,
   "id": "78708f84",
   "metadata": {},
   "outputs": [],
   "source": [
    "load_dotenv()\n",
    "\n",
    "api_id = int(os.getenv(\"API_ID\"))\n",
    "api_hash = os.getenv(\"API_HASH\")\n",
    "phone = os.getenv(\"PHONE\")"
   ]
  },
  {
   "cell_type": "code",
   "execution_count": 3,
   "id": "28cc9da6",
   "metadata": {},
   "outputs": [],
   "source": [
    "client = TelegramClient('session_name', api_id, api_hash)\n",
    "\n",
    "channel_usernames = [\n",
    "    'ZemenExpress',\n",
    "    'nevacomputer',\n",
    "    'helloomarketethiopia',\n",
    "    'Fashiontera',\n",
    "    'kuruwear'\n",
    "]"
   ]
  },
  {
   "cell_type": "code",
   "execution_count": 4,
   "id": "e50eb46a",
   "metadata": {},
   "outputs": [
    {
     "name": "stdout",
     "output_type": "stream",
     "text": [
      "Signed in successfully as Ruhama; remember to not break the ToS or you will risk an account ban!\n"
     ]
    }
   ],
   "source": [
    "async def scrape_messages():\n",
    "    await client.start(phone)\n",
    "    all_data = []\n",
    "\n",
    "    for channel in channel_usernames:\n",
    "        try:\n",
    "            async for message in client.iter_messages(channel, limit=100):\n",
    "                if message.text:\n",
    "                    data = {\n",
    "                        \"channel\": channel,\n",
    "                        \"date\": str(message.date),\n",
    "                        \"text\": message.text,\n",
    "                        \"views\": message.views or 0,\n",
    "                        \"id\": message.id,\n",
    "                        \"image_url\": str(message.media) if message.media else None\n",
    "                    }\n",
    "                    all_data.append(data)\n",
    "        except Exception as e:\n",
    "            print(f\"Failed to read from {channel}: {e}\")\n",
    "\n",
    "    with open(\"raw_telegram_data.json\", \"w\", encoding=\"utf-8\") as f:\n",
    "        json.dump(all_data, f, ensure_ascii=False, indent=2)\n",
    "\n",
    "async def main():\n",
    "    async with client:\n",
    "        await scrape_messages()\n",
    "\n",
    "await main()"
   ]
  }
 ],
 "metadata": {
  "language_info": {
   "name": "python"
  }
 },
 "nbformat": 4,
 "nbformat_minor": 5
}
