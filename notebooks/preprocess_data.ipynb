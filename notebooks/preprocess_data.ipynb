{
 "cells": [
  {
   "cell_type": "code",
   "execution_count": 1,
   "id": "d9050a28",
   "metadata": {},
   "outputs": [],
   "source": [
    "import json\n",
    "import pandas as pd\n",
    "import re"
   ]
  },
  {
   "cell_type": "code",
   "execution_count": 2,
   "id": "4bd0465a",
   "metadata": {},
   "outputs": [],
   "source": [
    "def tokenize_amharic(text):\n",
    "    # Basic tokenizer using regex\n",
    "    return re.findall(r'\\w+|[^\\w\\s]', text, re.UNICODE)\n",
    "\n",
    "def clean_text(text):\n",
    "    text = text.replace('\\n', ' ').replace('\\r', '')\n",
    "    text = re.sub(r'[^\\u1200-\\u137F0-9ብርa-zA-Z@፣፡።,.!?]', '', text)\n",
    "    return text.strip()\n",
    "\n",
    "with open(\"raw_telegram_data.json\", \"r\", encoding=\"utf-8\") as f:\n",
    "    messages = json.load(f)\n",
    "\n",
    "cleaned_data = []\n",
    "\n",
    "for msg in messages:\n",
    "    text = msg.get(\"text\", \"\")\n",
    "    if text:\n",
    "        cleaned = clean_text(text)\n",
    "        tokens = tokenize_amharic(cleaned)\n",
    "        cleaned_data.append({\n",
    "            \"channel\": msg[\"channel\"],\n",
    "            \"date\": msg[\"date\"],\n",
    "            \"tokens\": tokens,\n",
    "            \"original\": text,\n",
    "            \"views\": msg[\"views\"]\n",
    "        })"
   ]
  },
  {
   "cell_type": "code",
   "execution_count": 3,
   "id": "4733ad7d",
   "metadata": {},
   "outputs": [],
   "source": [
    "df = pd.DataFrame(cleaned_data)\n",
    "df.to_csv(\"preprocessed_data.csv\", index=False, encoding=\"utf-8-sig\")"
   ]
  }
 ],
 "metadata": {
  "kernelspec": {
   "display_name": ".venv",
   "language": "python",
   "name": "python3"
  },
  "language_info": {
   "codemirror_mode": {
    "name": "ipython",
    "version": 3
   },
   "file_extension": ".py",
   "mimetype": "text/x-python",
   "name": "python",
   "nbconvert_exporter": "python",
   "pygments_lexer": "ipython3",
   "version": "3.12.3"
  }
 },
 "nbformat": 4,
 "nbformat_minor": 5
}
